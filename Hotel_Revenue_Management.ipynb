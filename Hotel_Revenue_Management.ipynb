{
 "cells": [
  {
   "cell_type": "markdown",
   "id": "2da53c70-7156-4a21-b396-cc50c3b5bc2a",
   "metadata": {},
   "source": [
    "# MGMTMSA 408 – Operations Analytics – Spring 2024 - Final Exam"
   ]
  },
  {
   "cell_type": "markdown",
   "id": "81fa78a5-d7f7-4907-8a8d-828666b2ded7",
   "metadata": {},
   "source": [
    "## 4 - Hotel revenue management"
   ]
  },
  {
   "cell_type": "code",
   "execution_count": 1,
   "id": "e6e0ac1a-50c3-4840-ae12-39f1fb7cac5d",
   "metadata": {
    "tags": []
   },
   "outputs": [],
   "source": [
    "import numpy as np\n",
    "import pandas as pd"
   ]
  },
  {
   "cell_type": "code",
   "execution_count": 2,
   "id": "096de5ed-3b82-4013-b4f9-4216a5653ac9",
   "metadata": {
    "tags": []
   },
   "outputs": [
    {
     "name": "stdout",
     "output_type": "stream",
     "text": [
      "(84, 4)\n"
     ]
    },
    {
     "data": {
      "text/html": [
       "<div>\n",
       "<style scoped>\n",
       "    .dataframe tbody tr th:only-of-type {\n",
       "        vertical-align: middle;\n",
       "    }\n",
       "\n",
       "    .dataframe tbody tr th {\n",
       "        vertical-align: top;\n",
       "    }\n",
       "\n",
       "    .dataframe thead th {\n",
       "        text-align: right;\n",
       "    }\n",
       "</style>\n",
       "<table border=\"1\" class=\"dataframe\">\n",
       "  <thead>\n",
       "    <tr style=\"text-align: right;\">\n",
       "      <th></th>\n",
       "      <th>r</th>\n",
       "      <th>din</th>\n",
       "      <th>dout</th>\n",
       "      <th>probability</th>\n",
       "    </tr>\n",
       "  </thead>\n",
       "  <tbody>\n",
       "    <tr>\n",
       "      <th>0</th>\n",
       "      <td>Q</td>\n",
       "      <td>1</td>\n",
       "      <td>2</td>\n",
       "      <td>0.018519</td>\n",
       "    </tr>\n",
       "    <tr>\n",
       "      <th>1</th>\n",
       "      <td>Q</td>\n",
       "      <td>1</td>\n",
       "      <td>3</td>\n",
       "      <td>0.011111</td>\n",
       "    </tr>\n",
       "    <tr>\n",
       "      <th>2</th>\n",
       "      <td>Q</td>\n",
       "      <td>1</td>\n",
       "      <td>4</td>\n",
       "      <td>0.011111</td>\n",
       "    </tr>\n",
       "    <tr>\n",
       "      <th>3</th>\n",
       "      <td>Q</td>\n",
       "      <td>1</td>\n",
       "      <td>5</td>\n",
       "      <td>0.007407</td>\n",
       "    </tr>\n",
       "    <tr>\n",
       "      <th>4</th>\n",
       "      <td>Q</td>\n",
       "      <td>1</td>\n",
       "      <td>6</td>\n",
       "      <td>0.007407</td>\n",
       "    </tr>\n",
       "  </tbody>\n",
       "</table>\n",
       "</div>"
      ],
      "text/plain": [
       "   r  din  dout  probability\n",
       "0  Q    1     2     0.018519\n",
       "1  Q    1     3     0.011111\n",
       "2  Q    1     4     0.011111\n",
       "3  Q    1     5     0.007407\n",
       "4  Q    1     6     0.007407"
      ]
     },
     "execution_count": 2,
     "metadata": {},
     "output_type": "execute_result"
    }
   ],
   "source": [
    "hotel = pd.read_csv('hotel-probability.csv')\n",
    "print(hotel.shape)\n",
    "hotel.head()"
   ]
  },
  {
   "cell_type": "code",
   "execution_count": 3,
   "id": "083711f7-243d-4f3b-b197-0298a6759099",
   "metadata": {
    "tags": []
   },
   "outputs": [
    {
     "data": {
      "text/plain": [
       "0.7407407529999986"
      ]
     },
     "execution_count": 3,
     "metadata": {},
     "output_type": "execute_result"
    }
   ],
   "source": [
    "sum(hotel['probability'])"
   ]
  },
  {
   "cell_type": "markdown",
   "id": "c2048fcd-7b68-45b2-abe6-55971536f661",
   "metadata": {},
   "source": [
    "### Part 1: Understanding the data"
   ]
  },
  {
   "cell_type": "code",
   "execution_count": 4,
   "id": "e120f6fe-f27d-4be8-bc47-f081c5976600",
   "metadata": {},
   "outputs": [
    {
     "data": {
      "text/plain": [
       "0.3222222239999999"
      ]
     },
     "execution_count": 4,
     "metadata": {},
     "output_type": "execute_result"
    }
   ],
   "source": [
    "# Probability that the hotel receives a reservation for a Queen room\n",
    "\n",
    "hotel.loc[hotel['r'] == 'Q', 'probability'].sum()"
   ]
  },
  {
   "cell_type": "code",
   "execution_count": 5,
   "id": "a178ebc4-6104-4794-9ff7-816b6fa2ab2a",
   "metadata": {
    "tags": []
   },
   "outputs": [
    {
     "data": {
      "text/plain": [
       "0.014814815"
      ]
     },
     "execution_count": 5,
     "metadata": {},
     "output_type": "execute_result"
    }
   ],
   "source": [
    "# Probability that the hotel receives a reservation that checks in on Thursday 9/14/2023 and checks out on Sunday 9/17/2023\n",
    "\n",
    "hotel.loc[(hotel['din'] == 4) & (hotel['dout'] == 7), 'probability'].sum()"
   ]
  },
  {
   "cell_type": "code",
   "execution_count": 6,
   "id": "99459e58-1f1e-464c-9dcc-267d89134260",
   "metadata": {
    "tags": []
   },
   "outputs": [
    {
     "data": {
      "text/plain": [
       "0.259259247"
      ]
     },
     "execution_count": 6,
     "metadata": {},
     "output_type": "execute_result"
    }
   ],
   "source": [
    "# Probability that there is no request\n",
    "\n",
    "1 - hotel['probability'].sum()"
   ]
  },
  {
   "cell_type": "code",
   "execution_count": 7,
   "id": "372fb1cd-bef1-4f54-909f-e8a50d920c42",
   "metadata": {
    "tags": []
   },
   "outputs": [
    {
     "data": {
      "text/plain": [
       "5.99999994"
      ]
     },
     "execution_count": 7,
     "metadata": {},
     "output_type": "execute_result"
    }
   ],
   "source": [
    "# Expected value of the number of requests for a California King room, with check-in on Friday 9/15/2023 and check-out on Saturday 9/16/2023\n",
    "\n",
    "T = 540\n",
    "\n",
    "T * hotel.loc[(hotel['r'] == 'C') & (hotel['din'] == 5) & (hotel['dout'] == 6), 'probability'].sum()"
   ]
  },
  {
   "cell_type": "markdown",
   "id": "494b1709-7156-4daa-9039-877da77cd865",
   "metadata": {},
   "source": [
    "### Part 2: Determining an optimal static allocation"
   ]
  },
  {
   "cell_type": "code",
   "execution_count": 8,
   "id": "51e2303c-f259-4535-8e9c-e56236bbb3d3",
   "metadata": {
    "tags": []
   },
   "outputs": [],
   "source": [
    "n = hotel.shape[0] # number of request types\n",
    "r = 3 # number of room types\n",
    "\n",
    "# Number of rooms available for each room type across the 7 days:\n",
    "B = np.array([[50, 50, 20]]* 7)\n",
    "\n",
    "# Rooms used by requests of each type\n",
    "rooms_Q = np.where(hotel['r'] == 'Q', 1, 0)\n",
    "rooms_K = np.where(hotel['r'] == 'K', 1, 0)\n",
    "rooms_C = np.where(hotel['r'] == 'C', 1, 0)\n",
    "A = np.vstack((rooms_Q, rooms_K, rooms_C))\n",
    "\n",
    "# Number of time periods\n",
    "T = 540\n",
    "\n",
    "# Expected demand\n",
    "D = T * np.array(hotel['probability'])\n",
    "\n",
    "# Revenue\n",
    "revenue_room = {'Q': 200, 'K': 250, 'C': 300}\n",
    "\n",
    "revenue = np.zeros(n)\n",
    "\n",
    "for i in range(n):\n",
    "    room = hotel.iloc[i, 0]\n",
    "    base_rate = revenue_room[room]\n",
    "    din = hotel.iloc[i, 1]\n",
    "    dout = hotel.iloc[i, 2]\n",
    "    total_days = dout - din\n",
    "    num_days_additional = max(min(dout - 1, 6) - max(din - 1, 3), 0)\n",
    "    num_days_base = total_days - num_days_additional\n",
    "    revenue[i] = base_rate * num_days_base + base_rate * 1.15 * num_days_additional"
   ]
  },
  {
   "cell_type": "code",
   "execution_count": 9,
   "id": "0b907cbe-4b22-4e84-a959-33aa40a9400e",
   "metadata": {
    "scrolled": true,
    "tags": []
   },
   "outputs": [
    {
     "name": "stdout",
     "output_type": "stream",
     "text": [
      "Set parameter Username\n",
      "Academic license - for non-commercial use only - expires 2025-01-17\n",
      "Gurobi Optimizer version 11.0.0 build v11.0.0rc2 (mac64[arm] - Darwin 23.2.0 23C71)\n",
      "\n",
      "CPU model: Apple M2\n",
      "Thread count: 8 physical cores, 8 logical processors, using up to 8 threads\n",
      "\n",
      "Optimize a model with 21 rows, 84 columns and 252 nonzeros\n",
      "Model fingerprint: 0x995dd249\n",
      "Coefficient statistics:\n",
      "  Matrix range     [1e+00, 1e+00]\n",
      "  Objective range  [2e+02, 2e+03]\n",
      "  Bounds range     [2e+00, 4e+01]\n",
      "  RHS range        [2e+01, 5e+01]\n",
      "Presolve removed 9 rows and 16 columns\n",
      "Presolve time: 0.00s\n",
      "Presolved: 12 rows, 68 columns, 159 nonzeros\n",
      "\n",
      "Iteration    Objective       Primal Inf.    Dual Inf.      Time\n",
      "       0    3.1148000e+05   1.135000e+02   0.000000e+00      0s\n",
      "Extra simplex iterations after uncrush: 1\n",
      "      16    1.7214000e+05   0.000000e+00   0.000000e+00      0s\n",
      "\n",
      "Solved in 16 iterations and 0.00 seconds (0.00 work units)\n",
      "Optimal objective  1.721400018e+05\n",
      "The optimal revenue is $172140.0017788.\n"
     ]
    }
   ],
   "source": [
    "# Formulate the LP:\n",
    "from gurobipy import * \n",
    "\n",
    "# Create the model and the decision variables.\n",
    "m = Model()\n",
    "\n",
    "x = m.addVars(n, lb = 0, ub = D)\n",
    "\n",
    "room_capacity_constrs = {}\n",
    "for day in range(7):\n",
    "    for ell in range(r):\n",
    "        room_capacity_constrs[day, ell] = m.addConstr( sum(A[ell, i] * x[i] for i in range(n) if day+1>=hotel.iloc[i,1] and day+1<hotel.iloc[i,2]) <= B[day, ell])\n",
    "\n",
    "# Specify the objective\n",
    "m.setObjective( sum(revenue[i] * x[i] for i in range(n)), GRB.MAXIMIZE)\n",
    "\n",
    "# Solve \n",
    "m.update()\n",
    "m.optimize()\n",
    "\n",
    "# Save the LP objective\n",
    "LP_obj = m.objval\n",
    "\n",
    "print(f'The optimal revenue is ${LP_obj}.')"
   ]
  },
  {
   "cell_type": "code",
   "execution_count": 10,
   "id": "45f46132-271a-47f9-bee8-b651968b04b9",
   "metadata": {
    "tags": []
   },
   "outputs": [
    {
     "name": "stdout",
     "output_type": "stream",
     "text": [
      "[35 41 46 36  0]\n",
      "[19.99999814 15.99999782 13.9999982  10.00000026 10.00000026]\n"
     ]
    },
    {
     "data": {
      "text/html": [
       "<div>\n",
       "<style scoped>\n",
       "    .dataframe tbody tr th:only-of-type {\n",
       "        vertical-align: middle;\n",
       "    }\n",
       "\n",
       "    .dataframe tbody tr th {\n",
       "        vertical-align: top;\n",
       "    }\n",
       "\n",
       "    .dataframe thead th {\n",
       "        text-align: right;\n",
       "    }\n",
       "</style>\n",
       "<table border=\"1\" class=\"dataframe\">\n",
       "  <thead>\n",
       "    <tr style=\"text-align: right;\">\n",
       "      <th></th>\n",
       "      <th>r</th>\n",
       "      <th>din</th>\n",
       "      <th>dout</th>\n",
       "      <th>probability</th>\n",
       "    </tr>\n",
       "  </thead>\n",
       "  <tbody>\n",
       "    <tr>\n",
       "      <th>35</th>\n",
       "      <td>K</td>\n",
       "      <td>2</td>\n",
       "      <td>3</td>\n",
       "      <td>0.037037</td>\n",
       "    </tr>\n",
       "    <tr>\n",
       "      <th>41</th>\n",
       "      <td>K</td>\n",
       "      <td>3</td>\n",
       "      <td>4</td>\n",
       "      <td>0.037037</td>\n",
       "    </tr>\n",
       "    <tr>\n",
       "      <th>46</th>\n",
       "      <td>K</td>\n",
       "      <td>4</td>\n",
       "      <td>5</td>\n",
       "      <td>0.029630</td>\n",
       "    </tr>\n",
       "    <tr>\n",
       "      <th>36</th>\n",
       "      <td>K</td>\n",
       "      <td>2</td>\n",
       "      <td>4</td>\n",
       "      <td>0.018519</td>\n",
       "    </tr>\n",
       "    <tr>\n",
       "      <th>0</th>\n",
       "      <td>Q</td>\n",
       "      <td>1</td>\n",
       "      <td>2</td>\n",
       "      <td>0.018519</td>\n",
       "    </tr>\n",
       "  </tbody>\n",
       "</table>\n",
       "</div>"
      ],
      "text/plain": [
       "    r  din  dout  probability\n",
       "35  K    2     3     0.037037\n",
       "41  K    3     4     0.037037\n",
       "46  K    4     5     0.029630\n",
       "36  K    2     4     0.018519\n",
       "0   Q    1     2     0.018519"
      ]
     },
     "execution_count": 10,
     "metadata": {},
     "output_type": "execute_result"
    }
   ],
   "source": [
    "# Static allocation\n",
    "requests_accepted = np.array([x[i].x for i in range(n)])\n",
    "\n",
    "# Indices of top 5 request types\n",
    "ind = np.argpartition(requests_accepted, -5)[-5:]\n",
    "ind = np.flipud(ind[np.argsort(requests_accepted[ind])])\n",
    "print(ind)\n",
    "\n",
    "# Number of requests accepted\n",
    "print(requests_accepted[np.flipud(ind[np.argsort(requests_accepted[ind])])])\n",
    "\n",
    "# Details of top 5 request types accepted\n",
    "hotel.iloc[ind]"
   ]
  },
  {
   "cell_type": "code",
   "execution_count": 11,
   "id": "acd2dd6a-e0d4-4de1-a6ae-106b5f6c1322",
   "metadata": {
    "tags": []
   },
   "outputs": [
    {
     "data": {
      "text/plain": [
       "[[0.0, 0.0, 0.0],\n",
       " [200.0, 250.0, 300.0],\n",
       " [200.0, 250.0, 300.0],\n",
       " [230.0, 287.5, 345.0],\n",
       " [229.99999999999997, 0.0, 345.0],\n",
       " [0.0, 0.0, 345.0],\n",
       " [0.0, 0.0, 0.0]]"
      ]
     },
     "execution_count": 11,
     "metadata": {},
     "output_type": "execute_result"
    }
   ],
   "source": [
    "# Optimal values of the dual variables for the resource constraints\n",
    "dual_optimal = [[room_capacity_constrs[day, ell].pi for ell in range(r)] for day in range(7)]\n",
    "dual_optimal"
   ]
  },
  {
   "cell_type": "code",
   "execution_count": 12,
   "id": "b2335fa5-3a8a-4cb7-973d-15f948c18dbc",
   "metadata": {
    "tags": []
   },
   "outputs": [
    {
     "data": {
      "text/plain": [
       "724.9999999999998"
      ]
     },
     "execution_count": 12,
     "metadata": {},
     "output_type": "execute_result"
    }
   ],
   "source": [
    "# Predicted change in the revenue on converting 10 King’s room into Queen’s rooms\n",
    "10 * sum([dual_optimal[day][0] - dual_optimal[day][1] for day in range(len(dual_optimal))])"
   ]
  },
  {
   "cell_type": "markdown",
   "id": "2a934929-0777-4ba4-8daf-812b819164de",
   "metadata": {},
   "source": [
    "### Part 3: Determining an optimal dynamic allocation policy"
   ]
  },
  {
   "cell_type": "code",
   "execution_count": 13,
   "id": "6357e425-b6c1-4294-b9b5-57962a8c9566",
   "metadata": {
    "tags": []
   },
   "outputs": [
    {
     "data": {
      "text/plain": [
       "array([[46., 14., 17., ..., 36., 29., 41.],\n",
       "       [84., 84., 18., ..., 84.,  7., 64.],\n",
       "       [84.,  9., 36., ...,  3., 25., 51.],\n",
       "       ...,\n",
       "       [22., 13., 47., ..., 42., 84., 84.],\n",
       "       [ 7., 69., 84., ..., 22., 79., 41.],\n",
       "       [23., 75., 75., ..., 50., 84., 59.]])"
      ]
     },
     "execution_count": 13,
     "metadata": {},
     "output_type": "execute_result"
    }
   ],
   "source": [
    "# Generating 100 random sequences\n",
    "nSimulations = 100\n",
    "np.random.seed(50)\n",
    "\n",
    "probability_aug = np.zeros(n+1)\n",
    "probability_aug[0:n] = np.array(hotel['probability']) # First nItineraries elements are the same as probability\n",
    "probability_aug[n] = 1 - sum(np.array(hotel['probability'])) # Last element is one minus the rest.\n",
    "\n",
    "arrival_sequences = np.zeros((nSimulations, T))\n",
    "\n",
    "for s in range(nSimulations):\n",
    "    arrival_sequences[s] = np.random.choice(range(n+1), T, p=probability_aug)\n",
    "\n",
    "arrival_sequences"
   ]
  },
  {
   "cell_type": "code",
   "execution_count": 14,
   "id": "cedfbd78-fe2d-4a68-8e88-c461059454ac",
   "metadata": {
    "scrolled": true,
    "tags": []
   },
   "outputs": [
    {
     "data": {
      "text/plain": [
       "[0,\n",
       " 0,\n",
       " 0,\n",
       " 0,\n",
       " 0,\n",
       " 0,\n",
       " 0,\n",
       " 0,\n",
       " 0,\n",
       " 0,\n",
       " 0,\n",
       " 0,\n",
       " 0,\n",
       " 0,\n",
       " 0,\n",
       " 0,\n",
       " 0,\n",
       " 0,\n",
       " 0,\n",
       " 0,\n",
       " 0,\n",
       " 0,\n",
       " 0,\n",
       " 0,\n",
       " 0,\n",
       " 0,\n",
       " 0,\n",
       " 0,\n",
       " 1,\n",
       " 1,\n",
       " 1,\n",
       " 1,\n",
       " 1,\n",
       " 1,\n",
       " 1,\n",
       " 1,\n",
       " 1,\n",
       " 1,\n",
       " 1,\n",
       " 1,\n",
       " 1,\n",
       " 1,\n",
       " 1,\n",
       " 1,\n",
       " 1,\n",
       " 1,\n",
       " 1,\n",
       " 1,\n",
       " 1,\n",
       " 1,\n",
       " 1,\n",
       " 1,\n",
       " 1,\n",
       " 1,\n",
       " 1,\n",
       " 1,\n",
       " 2,\n",
       " 2,\n",
       " 2,\n",
       " 2,\n",
       " 2,\n",
       " 2,\n",
       " 2,\n",
       " 2,\n",
       " 2,\n",
       " 2,\n",
       " 2,\n",
       " 2,\n",
       " 2,\n",
       " 2,\n",
       " 2,\n",
       " 2,\n",
       " 2,\n",
       " 2,\n",
       " 2,\n",
       " 2,\n",
       " 2,\n",
       " 2,\n",
       " 2,\n",
       " 2,\n",
       " 2,\n",
       " 2,\n",
       " 2,\n",
       " 2]"
      ]
     },
     "execution_count": 14,
     "metadata": {},
     "output_type": "execute_result"
    }
   ],
   "source": [
    "# Mapping from request type to room type\n",
    "req_to_rooms = list(np.where(hotel['r'] == 'Q', 0, np.where(hotel['r'] == 'K', 1, 2)))\n",
    "req_to_rooms"
   ]
  },
  {
   "cell_type": "code",
   "execution_count": 15,
   "id": "2166b6d8-4982-4ff5-a91a-82822b6487f6",
   "metadata": {
    "tags": []
   },
   "outputs": [
    {
     "name": "stdout",
     "output_type": "stream",
     "text": [
      "Average revenue for first come first serve policy over the 100 random requests sequences is $147472.025\n"
     ]
    }
   ],
   "source": [
    "# Average revenue for first come first serve policy\n",
    "results_myopic_revenue = np.zeros(nSimulations)\n",
    "\n",
    "for s in range(nSimulations):\n",
    "    total_revenue = 0.0\n",
    "    b = B.copy()\n",
    "    \n",
    "    for t in range(T):\n",
    "        \n",
    "        i = int(arrival_sequences[s, t])\n",
    "        \n",
    "        if (i < n):\n",
    "            days = [day for day in range(7) if day+1>=hotel.iloc[i,1] and day+1<hotel.iloc[i,2]]\n",
    "            if (b[days, req_to_rooms[i]] > 0).all():\n",
    "                b[days, req_to_rooms[i]] -= 1\n",
    "                total_revenue += revenue[i]\n",
    "    \n",
    "    results_myopic_revenue[s] = total_revenue\n",
    "    \n",
    "mean_myopic_revenue = results_myopic_revenue.mean()\n",
    "\n",
    "print(f\"Average revenue for first come first serve policy over the 100 random requests sequences is ${mean_myopic_revenue}\")"
   ]
  },
  {
   "cell_type": "code",
   "execution_count": 16,
   "id": "8340476e-d1d3-4510-974a-c8884938e7db",
   "metadata": {
    "scrolled": true,
    "tags": []
   },
   "outputs": [
    {
     "data": {
      "text/plain": [
       "array([0.01851852, 0.01111111, 0.01111111, 0.00740741, 0.00740741,\n",
       "       0.0037037 , 0.0037037 , 0.01111111, 0.03703704, 0.01851852,\n",
       "       0.00740741, 0.00740741, 0.0037037 , 0.07407407, 0.01481482,\n",
       "       0.00740741, 0.00740741, 0.0037037 , 0.0037037 , 0.01481482,\n",
       "       0.0037037 , 0.0037037 , 0.02222222, 0.0037037 , 0.0037037 ,\n",
       "       0.0037037 , 0.0037037 , 0.0037037 , 0.01481482, 0.0037037 ,\n",
       "       0.0037037 , 0.0037037 , 0.0037037 , 0.0037037 , 0.0037037 ,\n",
       "       0.03703704, 0.01851852, 0.0037037 , 0.0037037 , 0.0037037 ,\n",
       "       0.0037037 , 0.03703704, 0.0037037 , 0.0037037 , 0.0037037 ,\n",
       "       0.0037037 , 0.02962963, 0.01481482, 0.00740741, 0.0037037 ,\n",
       "       0.01481482, 0.00740741, 0.00740741, 0.0037037 , 0.0037037 ,\n",
       "       0.0037037 , 0.00740741, 0.00740741, 0.00740741, 0.0037037 ,\n",
       "       0.0037037 , 0.0037037 , 0.0037037 , 0.01111111, 0.01851852,\n",
       "       0.0037037 , 0.0037037 , 0.0037037 , 0.0037037 , 0.01851852,\n",
       "       0.0037037 , 0.0037037 , 0.0037037 , 0.0037037 , 0.0037037 ,\n",
       "       0.01111111, 0.0037037 , 0.0037037 , 0.01111111, 0.0037037 ,\n",
       "       0.0037037 , 0.0037037 , 0.0037037 , 0.        ])"
      ]
     },
     "execution_count": 16,
     "metadata": {},
     "output_type": "execute_result"
    }
   ],
   "source": [
    "probability = np.array(hotel['probability'])\n",
    "probability"
   ]
  },
  {
   "cell_type": "code",
   "execution_count": 17,
   "id": "308e6791-9c3f-4a1b-bd99-99ebfc06b98a",
   "metadata": {
    "tags": []
   },
   "outputs": [],
   "source": [
    "# Define a function to repeatedly solve\n",
    "# the LP at different periods and with different numbers of remaining seats. \n",
    "def bpc(b,t):\n",
    "    for day in range(7):\n",
    "        for ell in range(r):\n",
    "            room_capacity_constrs[day, ell].rhs = b[day, ell]\n",
    "    \n",
    "    for i in range(n):\n",
    "        x[i].ub = (T - t)*probability[i]\n",
    "    \n",
    "    m.update()\n",
    "    m.optimize()\n",
    "    \n",
    "    dual_val = [[room_capacity_constrs[day, ell].pi for ell in range(r)] for day in range(7)]\n",
    "    \n",
    "    return dual_val"
   ]
  },
  {
   "cell_type": "code",
   "execution_count": 18,
   "id": "092a95be-f166-4c25-ac22-c064748a64e2",
   "metadata": {
    "tags": []
   },
   "outputs": [
    {
     "name": "stdout",
     "output_type": "stream",
     "text": [
      "The average revenue of this policy over the 100 random request sequences is $163679.075.\n"
     ]
    }
   ],
   "source": [
    "# To make the output easier to read, let's also disable the output from Gurobi:\n",
    "m.Params.outputflag = 0\n",
    "\n",
    "results_revenue = np.zeros(nSimulations)\n",
    "\n",
    "for s in range(nSimulations):\n",
    "    total_revenue = 0.0\n",
    "    b = B.copy()\n",
    "    \n",
    "    for t in range(T):\n",
    "        \n",
    "        i = int(arrival_sequences[s, t])\n",
    "        \n",
    "        if (i < n):\n",
    "            dual_val = bpc(b,t)\n",
    "            \n",
    "            days = [day for day in range(7) if day+1>=hotel.iloc[i,1] and day+1<hotel.iloc[i,2]]\n",
    "            \n",
    "            # Compute the total bid price of the request:\n",
    "            total_bid_price = sum([dual_val[day][req_to_rooms[i]] for day in days])\n",
    "            \n",
    "            if ( (revenue[i] >= total_bid_price) and (b[days, req_to_rooms[i]] > 0).all() ):\n",
    "                b[days, req_to_rooms[i]] -= 1\n",
    "                total_revenue += revenue[i]\n",
    "    \n",
    "    results_revenue[s] = total_revenue\n",
    "    \n",
    "\n",
    "mean_LP_revenue = results_revenue.mean()\n",
    "\n",
    "print(f\"The average revenue of this policy over the 100 random request sequences is ${mean_LP_revenue}.\")"
   ]
  },
  {
   "cell_type": "code",
   "execution_count": 19,
   "id": "910fdb7e-6a3b-450d-9bd8-3fd5b6d4f643",
   "metadata": {
    "tags": []
   },
   "outputs": [
    {
     "name": "stdout",
     "output_type": "stream",
     "text": [
      "[13 41  8 35 46 22 69  9 36 64  0 14 28 47 50 19  1  2 75  7 63 78 52 16\n",
      " 48 15 51 57 56 58 11 10  4  3 24 23 25 26 27 21 20 72 18 17 30 79 12 80\n",
      " 81  6  5 29 76 31 53 70 73 68 67 66 65 74 62 61 60 59 55 54 49 32 45 44\n",
      " 43 42 82 40 39 38 37 71 77 34 33 83]\n"
     ]
    },
    {
     "data": {
      "text/plain": [
       "array([0.07407407, 0.03703704, 0.03703704, 0.03703704, 0.02962963,\n",
       "       0.02222222, 0.01851852, 0.01851852, 0.01851852, 0.01851852,\n",
       "       0.01851852, 0.01481482, 0.01481482, 0.01481482, 0.01481482,\n",
       "       0.01481482, 0.01111111, 0.01111111, 0.01111111, 0.01111111,\n",
       "       0.01111111, 0.01111111, 0.00740741, 0.00740741, 0.00740741,\n",
       "       0.00740741, 0.00740741, 0.00740741, 0.00740741, 0.00740741,\n",
       "       0.00740741, 0.00740741, 0.00740741, 0.00740741, 0.0037037 ,\n",
       "       0.0037037 , 0.0037037 , 0.0037037 , 0.0037037 , 0.0037037 ,\n",
       "       0.0037037 , 0.0037037 , 0.0037037 , 0.0037037 , 0.0037037 ,\n",
       "       0.0037037 , 0.0037037 , 0.0037037 , 0.0037037 , 0.0037037 ,\n",
       "       0.0037037 , 0.0037037 , 0.0037037 , 0.0037037 , 0.0037037 ,\n",
       "       0.0037037 , 0.0037037 , 0.0037037 , 0.0037037 , 0.0037037 ,\n",
       "       0.0037037 , 0.0037037 , 0.0037037 , 0.0037037 , 0.0037037 ,\n",
       "       0.0037037 , 0.0037037 , 0.0037037 , 0.0037037 , 0.0037037 ,\n",
       "       0.0037037 , 0.0037037 , 0.0037037 , 0.0037037 , 0.0037037 ,\n",
       "       0.0037037 , 0.0037037 , 0.0037037 , 0.0037037 , 0.0037037 ,\n",
       "       0.0037037 , 0.0037037 , 0.0037037 , 0.        ])"
      ]
     },
     "execution_count": 19,
     "metadata": {},
     "output_type": "execute_result"
    }
   ],
   "source": [
    "# Sorting indices based on decreasing order of probability\n",
    "prob_index = np.flipud(np.argsort(probability))\n",
    "print(prob_index)\n",
    "probability[prob_index]"
   ]
  },
  {
   "cell_type": "code",
   "execution_count": 20,
   "id": "6432f42b-3ac0-40aa-917b-b93421d306cb",
   "metadata": {
    "tags": []
   },
   "outputs": [
    {
     "data": {
      "text/plain": [
       "array([ 200. ,  250. ,  400. ,  250. ,  287.5,  230. ,  300. ,  630. ,\n",
       "        500. ,  600. ,  200. ,  430. ,  250. ,  575. ,  287.5,  460. ,\n",
       "        400. ,  600. ,  690. ,  200. ,  300. ,  345. ,  825. ,  890. ,\n",
       "        862.5,  660. ,  575. ,  600. ,  300. ,  900. , 1090. ,  860. ,\n",
       "       1060. ,  830. ,  660. ,  460. ,  230. ,  430. ,  200. ,  890. ,\n",
       "        690. , 1335. ,  230. , 1090. ,  750. ,  690. , 1290. ,  990. ,\n",
       "        345. , 1490. , 1290. ,  500. , 1035. , 1037.5,  287.5,  645. ,\n",
       "       1635. , 1935. , 1635. , 1290. ,  945. ,  345. , 2235. , 1935. ,\n",
       "       1590. , 1245. ,  250. ,  537.5, 1112.5, 1325. , 1362.5, 1112.5,\n",
       "        825. ,  537.5,  645. , 1612.5, 1362.5, 1075. ,  787.5,  990. ,\n",
       "       1335. , 1862.5, 1612.5,  300. ])"
      ]
     },
     "execution_count": 20,
     "metadata": {},
     "output_type": "execute_result"
    }
   ],
   "source": [
    "# Getting the revenue correspondinfg to the sorted indices\n",
    "revenue[prob_index]"
   ]
  },
  {
   "cell_type": "code",
   "execution_count": null,
   "id": "f5bce91e-9e98-4846-b58d-3572a7bc25be",
   "metadata": {},
   "outputs": [],
   "source": []
  }
 ],
 "metadata": {
  "kernelspec": {
   "display_name": "Python 3 (ipykernel)",
   "language": "python",
   "name": "python3"
  },
  "language_info": {
   "codemirror_mode": {
    "name": "ipython",
    "version": 3
   },
   "file_extension": ".py",
   "mimetype": "text/x-python",
   "name": "python",
   "nbconvert_exporter": "python",
   "pygments_lexer": "ipython3",
   "version": "3.11.8"
  }
 },
 "nbformat": 4,
 "nbformat_minor": 5
}
